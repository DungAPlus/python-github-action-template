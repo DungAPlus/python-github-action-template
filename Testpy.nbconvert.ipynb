{
 "cells": [
  {
   "cell_type": "code",
   "execution_count": 1,
   "id": "a405c779",
   "metadata": {
    "execution": {
     "iopub.execute_input": "2024-01-03T17:53:22.307351Z",
     "iopub.status.busy": "2024-01-03T17:53:22.307164Z",
     "iopub.status.idle": "2024-01-03T17:53:22.314157Z",
     "shell.execute_reply": "2024-01-03T17:53:22.313611Z"
    }
   },
   "outputs": [
    {
     "name": "stdout",
     "output_type": "stream",
     "text": [
      "hello\n"
     ]
    }
   ],
   "source": [
    "print('hello')"
   ]
  },
  {
   "cell_type": "code",
   "execution_count": 2,
   "id": "66725630",
   "metadata": {
    "execution": {
     "iopub.execute_input": "2024-01-03T17:53:22.316627Z",
     "iopub.status.busy": "2024-01-03T17:53:22.316281Z",
     "iopub.status.idle": "2024-01-03T17:53:22.319528Z",
     "shell.execute_reply": "2024-01-03T17:53:22.318919Z"
    }
   },
   "outputs": [
    {
     "name": "stdout",
     "output_type": "stream",
     "text": [
      "dũng\n"
     ]
    }
   ],
   "source": [
    "print('dũng')"
   ]
  }
 ],
 "metadata": {
  "kernelspec": {
   "display_name": "Python 3 (ipykernel)",
   "language": "python",
   "name": "python3"
  },
  "language_info": {
   "codemirror_mode": {
    "name": "ipython",
    "version": 3
   },
   "file_extension": ".py",
   "mimetype": "text/x-python",
   "name": "python",
   "nbconvert_exporter": "python",
   "pygments_lexer": "ipython3",
   "version": "3.9.18"
  }
 },
 "nbformat": 4,
 "nbformat_minor": 5
}
